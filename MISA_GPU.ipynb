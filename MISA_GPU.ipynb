{
  "nbformat": 4,
  "nbformat_minor": 0,
  "metadata": {
    "colab": {
      "provenance": [],
      "machine_shape": "hm",
      "gpuType": "T4"
    },
    "kernelspec": {
      "name": "python3",
      "display_name": "Python 3"
    },
    "language_info": {
      "name": "python"
    },
    "accelerator": "GPU"
  },
  "cells": [
    {
      "cell_type": "markdown",
      "source": [],
      "metadata": {
        "id": "avQU4NfnsgWU"
      }
    },
    {
      "cell_type": "code",
      "execution_count": null,
      "metadata": {
        "id": "XaiUGlRKsVfb"
      },
      "outputs": [],
      "source": [
        "# import os\n",
        "\n",
        "# if not os.path.exists(\"/content/MISA\"):\n",
        "#     !git clone https://github.com/stavrakas13/MISA /content/MISA\n",
        "\n",
        "\n",
        "import shutil\n",
        "import os\n",
        "\n",
        "# Διαγραφή του φακέλου αν υπάρχει\n",
        "if os.path.exists(\"/content/MISA\"):\n",
        "    shutil.rmtree(\"/content/MISA\")\n",
        "\n",
        "# Κλωνοποίηση του repo\n",
        "!git clone https://github.com/stavrakas13/MISA /content/MISA\n"
      ]
    },
    {
      "cell_type": "code",
      "source": [
        "if not os.path.exists(\"/content/miniconda3\"):\n",
        "    !mkdir -p /content/miniconda3\n",
        "    !wget https://repo.anaconda.com/miniconda/Miniconda3-latest-Linux-x86_64.sh -O /content/miniconda3/miniconda.sh\n",
        "    !bash /content/miniconda3/miniconda.sh -b -u -p /content/miniconda3"
      ],
      "metadata": {
        "id": "g2OGWuT2shFq"
      },
      "execution_count": null,
      "outputs": []
    },
    {
      "cell_type": "code",
      "source": [
        "!source /content/miniconda3/bin/activate && conda init --all\n"
      ],
      "metadata": {
        "id": "LxOpeSlCsmqH"
      },
      "execution_count": null,
      "outputs": []
    },
    {
      "cell_type": "code",
      "source": [
        "envs_output = !source /content/miniconda3/bin/activate && conda env list\n",
        "if \"MISA\" not in \"\\n\".join(envs_output):\n",
        "    !source /content/miniconda3/bin/activate && \\\n",
        "     cd /content/MISA && \\\n",
        "     conda env create -f env_gpu.yml"
      ],
      "metadata": {
        "id": "CWsJzygxso6s"
      },
      "execution_count": null,
      "outputs": []
    },
    {
      "cell_type": "code",
      "source": [
        "# !source /content/miniconda3/bin/activate && \\\n",
        "#  conda activate misa-code-py39-gpu && \\\n",
        "# #  pip install numpy==1.26.2 # validators==0.18 \\\n"
      ],
      "metadata": {
        "id": "YwVrAnlTs4Fs"
      },
      "execution_count": null,
      "outputs": []
    },
    {
      "cell_type": "code",
      "source": [
        "# %%bash\n",
        "# cd /content/MISA\n",
        "# mkdir -p glove && \\\n",
        "# wget http://nlp.stanford.edu/data/glove.840B.300d.zip -O glove/glove.840B.300d.zip && \\\n",
        "# unzip glove/glove.840B.300d.zip -d glove && \\"
      ],
      "metadata": {
        "id": "yoowaJQV4dV7"
      },
      "execution_count": null,
      "outputs": []
    },
    {
      "cell_type": "code",
      "source": [
        "# if not os.path.exists(\"/content/MISA/CMU-MultimodalSDK\"):\n",
        "!rm -rf /content/MISA/CMU-MultimodalSDK\n",
        "!source /content/miniconda3/bin/activate && \\\n",
        "  conda activate misa-code-py39-gpu && \\\n",
        "  cd /content/MISA && \\\n",
        "  git clone https://github.com/CMU-MultiComp-Lab/CMU-MultimodalSDK.git && \\\n",
        "  cd CMU-MultimodalSDK && \\\n",
        "  pip install -e ."
      ],
      "metadata": {
        "id": "ekiHYYPGswfK"
      },
      "execution_count": null,
      "outputs": []
    },
    {
      "cell_type": "code",
      "source": [
        "!source /content/miniconda3/bin/activate && \\\n",
        "conda activate misa-code-py39-gpu && \\\n",
        "     pip install --force-reinstall --no-deps torch-geometric==2.0.4 \\\n",
        "      -f https://data.pyg.org/whl/torch-1.10.0+cu113.html && \\\n",
        "     conda install -n misa-code-py39-gpu -c conda-forge intel-openmp=2023.1.0 mkl=2024.0.0 --force-reinstall -y"
      ],
      "metadata": {
        "id": "S8Jie1Y46AA6"
      },
      "execution_count": null,
      "outputs": []
    },
    {
      "cell_type": "code",
      "source": [
        "%%bash\n",
        "source /content/miniconda3/bin/activate\n",
        "conda activate misa-code-py39-gpu\n",
        "\n",
        "# conda remove -y torchaudio\n",
        "\n",
        "pip install --no-deps \\\n",
        "    --extra-index-url https://download.pytorch.org/whl/cu113 \\\n",
        "    torchaudio==0.10.0+cu113\n"
      ],
      "metadata": {
        "id": "krgfgSQAdNS5"
      },
      "execution_count": null,
      "outputs": []
    },
    {
      "cell_type": "code",
      "source": [
        "%%bash\n",
        "source /content/miniconda3/bin/activate\n",
        "conda activate misa-code-py39-gpu\n",
        "\n",
        "conda install -y -c conda-forge \\\n",
        "    gensim \\\n",
        "    filelock \\\n",
        "    fsspec\n"
      ],
      "metadata": {
        "id": "DwLQMASXddfW"
      },
      "execution_count": null,
      "outputs": []
    },
    {
      "cell_type": "code",
      "source": [
        "%%bash\n",
        "set -e\n",
        "source /content/miniconda3/bin/activate\n",
        "\n",
        "\n",
        "mkdir -p /content/MISA/datasets/MOSEI\n",
        "\n",
        "# grab the CSD\n",
        "# wget -q http://immortal.multicomp.cs.cmu.edu/CMU-MOSEI/labels/CMU_MOSEI_Labels.csd \\\n",
        "    #  -O /content/MISA/datasets/MOSEI/CMU_MOSEI_LabelsSentiment.csd\n",
        "\n",
        "# install & run gdown inside the GPU env, writing straight into the folder\n",
        "conda run -n misa-code-py39-gpu pip install --quiet gdown\n",
        "conda run -n misa-code-py39-gpu gdown --folder https://drive.google.com/drive/folders/1aoWOjhPzpdoIXil5TJlWnxGPPr-s2Jsm \\\n",
        "    -O /content/MISA/datasets/MOSEI\n",
        "\n",
        "echo \"✅ Data files fetched into /content/MISA/datasets/MOSEI\"\n"
      ],
      "metadata": {
        "id": "Zy8zsV2WiezN"
      },
      "execution_count": null,
      "outputs": []
    },
    {
      "cell_type": "code",
      "source": [
        "!source /content/miniconda3/bin/activate && \\\n",
        "conda activate misa-code-py39-gpu && \\\n",
        " cd /content/MISA/src && \\\n",
        " time python train.py --data mosei --patience 4 #it mays causes overfitting if more...\n",
        "#  conda install -n misa-code-py39 -c conda-forge ittapi && \\\n"
      ],
      "metadata": {
        "id": "kfH-9soDWHyN"
      },
      "execution_count": null,
      "outputs": []
    }
  ]
}